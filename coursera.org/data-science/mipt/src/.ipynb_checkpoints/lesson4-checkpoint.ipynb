{
 "cells": [
  {
   "cell_type": "code",
   "execution_count": 1,
   "metadata": {},
   "outputs": [],
   "source": [
    "?open"
   ]
  },
  {
   "cell_type": "code",
   "execution_count": 2,
   "metadata": {},
   "outputs": [],
   "source": [
    "f1 = open('file.txt', 'r')"
   ]
  },
  {
   "cell_type": "code",
   "execution_count": 3,
   "metadata": {},
   "outputs": [
    {
     "name": "stdout",
     "output_type": "stream",
     "text": [
      "str\n",
      "строка\n"
     ]
    }
   ],
   "source": [
    "print f1.read()"
   ]
  },
  {
   "cell_type": "code",
   "execution_count": 13,
   "metadata": {},
   "outputs": [
    {
     "name": "stdout",
     "output_type": "stream",
     "text": [
      "str\n",
      "4\n",
      "строка\n",
      "13\n",
      "\n",
      "1\n",
      "end 3\n",
      " 0\n",
      " 0\n"
     ]
    }
   ],
   "source": [
    "f1 = open('file.txt', 'r')\n",
    "s = f1.readline()\n",
    "print s, len(s)\n",
    "s = f1.readline()\n",
    "print s, len(s)\n",
    "s = f1.readline()\n",
    "print s, len(s)\n",
    "s = f1.readline()\n",
    "print s, len(s)\n",
    "s = f1.readline()\n",
    "print s, len(s)\n",
    "s = f1.readline()\n",
    "print s, len(s)"
   ]
  },
  {
   "cell_type": "code",
   "execution_count": 14,
   "metadata": {},
   "outputs": [
    {
     "name": "stdout",
     "output_type": "stream",
     "text": [
      "str\n",
      "строка\n",
      "\n",
      "end\n"
     ]
    }
   ],
   "source": [
    "for line in open('file.txt', 'r'):\n",
    "    print line,"
   ]
  },
  {
   "cell_type": "code",
   "execution_count": 16,
   "metadata": {},
   "outputs": [
    {
     "name": "stdout",
     "output_type": "stream",
     "text": [
      "str\n",
      "строка\n",
      "\n",
      "end\n"
     ]
    }
   ],
   "source": [
    "print ''.join(list(open('file.txt', 'r')))"
   ]
  },
  {
   "cell_type": "code",
   "execution_count": 18,
   "metadata": {},
   "outputs": [
    {
     "name": "stdout",
     "output_type": "stream",
     "text": [
      "str\n",
      "строка\n",
      "\n",
      "end\n"
     ]
    }
   ],
   "source": [
    "print ''.join(list(open('file.txt', 'r')))"
   ]
  },
  {
   "cell_type": "code",
   "execution_count": 19,
   "metadata": {},
   "outputs": [
    {
     "data": {
      "text/plain": [
       "'wer'"
      ]
     },
     "execution_count": 19,
     "metadata": {},
     "output_type": "execute_result"
    }
   ],
   "source": [
    "'      \\n\\r\\twer   '.strip()"
   ]
  },
  {
   "cell_type": "code",
   "execution_count": 20,
   "metadata": {},
   "outputs": [
    {
     "data": {
      "text/plain": [
       "['str\\n', '\\xd1\\x81\\xd1\\x82\\xd1\\x80\\xd0\\xbe\\xd0\\xba\\xd0\\xb0\\n', '\\n', 'end']"
      ]
     },
     "execution_count": 20,
     "metadata": {},
     "output_type": "execute_result"
    }
   ],
   "source": [
    "open('file.txt', 'r').readlines()"
   ]
  },
  {
   "cell_type": "code",
   "execution_count": 22,
   "metadata": {},
   "outputs": [],
   "source": [
    "open('file.txt', 'r').close()"
   ]
  },
  {
   "cell_type": "code",
   "execution_count": 24,
   "metadata": {},
   "outputs": [
    {
     "name": "stdout",
     "output_type": "stream",
     "text": [
      "str\n",
      "строка\n",
      "\n",
      "end\n"
     ]
    }
   ],
   "source": [
    "print open('file.txt', 'r').read()"
   ]
  },
  {
   "cell_type": "code",
   "execution_count": 26,
   "metadata": {},
   "outputs": [
    {
     "name": "stdout",
     "output_type": "stream",
     "text": [
      "str\r\n",
      "СЃС‚СЂРѕРєР°\r\n",
      "\r\n",
      "end\n"
     ]
    }
   ],
   "source": [
    "import codecs\n",
    "print codecs.open('file.txt', 'r', encoding='cp1251').read()"
   ]
  },
  {
   "cell_type": "code",
   "execution_count": 47,
   "metadata": {},
   "outputs": [
    {
     "name": "stdout",
     "output_type": "stream",
     "text": [
      "str1\n"
     ]
    }
   ],
   "source": [
    "f = open('temp.txt', 'w')\n",
    "f.write('str1\\n')\n",
    "f.close()\n",
    "!type temp.txt"
   ]
  },
  {
   "cell_type": "code",
   "execution_count": 48,
   "metadata": {},
   "outputs": [
    {
     "name": "stdout",
     "output_type": "stream",
     "text": [
      "str2\n"
     ]
    }
   ],
   "source": [
    "f = open('temp.txt', 'w')\n",
    "f.write('str2\\n')\n",
    "f.close()\n",
    "!type temp.txt"
   ]
  },
  {
   "cell_type": "code",
   "execution_count": 49,
   "metadata": {},
   "outputs": [
    {
     "name": "stdout",
     "output_type": "stream",
     "text": [
      "str2\n",
      "str3\n"
     ]
    }
   ],
   "source": [
    "f = open('temp.txt', 'a')\n",
    "f.write('str3\\n')\n",
    "f.close()\n",
    "!type temp.txt"
   ]
  },
  {
   "cell_type": "code",
   "execution_count": 53,
   "metadata": {},
   "outputs": [
    {
     "name": "stdout",
     "output_type": "stream",
     "text": [
      "0123456789\n"
     ]
    }
   ],
   "source": [
    "with open('temp.txt', 'w') as f:\n",
    "    f.writelines(map(lambda o: str(o), range(10)))\n",
    "!type temp.txt"
   ]
  },
  {
   "cell_type": "code",
   "execution_count": null,
   "metadata": {},
   "outputs": [],
   "source": []
  }
 ],
 "metadata": {
  "kernelspec": {
   "display_name": "Python 2",
   "language": "python",
   "name": "python2"
  },
  "language_info": {
   "codemirror_mode": {
    "name": "ipython",
    "version": 2
   },
   "file_extension": ".py",
   "mimetype": "text/x-python",
   "name": "python",
   "nbconvert_exporter": "python",
   "pygments_lexer": "ipython2",
   "version": "2.7.16"
  }
 },
 "nbformat": 4,
 "nbformat_minor": 2
}
